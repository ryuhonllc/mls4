{
 "cells": [
  {
   "cell_type": "code",
   "execution_count": 3,
   "metadata": {
    "collapsed": true
   },
   "outputs": [],
   "source": [
    "import numpy as np\n",
    "import tensorflow as tf\n",
    "\n"
   ]
  },
  {
   "cell_type": "code",
   "execution_count": 8,
   "metadata": {
    "collapsed": false
   },
   "outputs": [
    {
     "name": "stdout",
     "output_type": "stream",
     "text": [
      "100 loops, best of 3: 6.83 ms per loop\n"
     ]
    }
   ],
   "source": [
    "n = 1000000\n",
    "\n",
    "a = np.array([-42.0]*n)\n",
    "b = np.array([42.0]* n)\n",
    "\n",
    "\n",
    "def basic_op():\n",
    "    return np.linalg.norm(np.abs(a) + np.sqrt(b))\n",
    "    \n",
    "\n",
    "%timeit basic_op()\n",
    "\n"
   ]
  },
  {
   "cell_type": "code",
   "execution_count": 15,
   "metadata": {
    "collapsed": false
   },
   "outputs": [
    {
     "name": "stdout",
     "output_type": "stream",
     "text": [
      "tfa Tensor(\"Const_15:0\", shape=(1000000,), dtype=float64)\n",
      "op1 Tensor(\"Abs_5:0\", shape=(1000000,), dtype=float64)\n",
      "1 loop, best of 3: 172 ms per loop\n"
     ]
    }
   ],
   "source": [
    "\n",
    "tfa = tf.constant(a)\n",
    "tfb = tf.constant(b)\n",
    "op1 = tf.abs(a)\n",
    "op2 = tf.sqrt(b)\n",
    "dist = tf.sqrt(tf.reduce_sum(tf.square(tf.add(op1,op2))))\n",
    "\n",
    "\n",
    "\n",
    "# note what is actually produced\n",
    "print(\"tfa\", tfa)\n",
    "print(\"op1\", op1)\n",
    "\n",
    "def tf_op():\n",
    "    with tf.Session() as sess:\n",
    "        return sess.run(dist)\n",
    "        \n",
    "%timeit tf_op()\n"
   ]
  }
 ],
 "metadata": {
  "kernelspec": {
   "display_name": "Python 3",
   "language": "python",
   "name": "python3"
  },
  "language_info": {
   "codemirror_mode": {
    "name": "ipython",
    "version": 3
   },
   "file_extension": ".py",
   "mimetype": "text/x-python",
   "name": "python",
   "nbconvert_exporter": "python",
   "pygments_lexer": "ipython3",
   "version": "3.5.2"
  }
 },
 "nbformat": 4,
 "nbformat_minor": 2
}
